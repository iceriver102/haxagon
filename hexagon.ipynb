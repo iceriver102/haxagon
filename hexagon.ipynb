{
 "cells": [
  {
   "cell_type": "markdown",
   "metadata": {},
   "source": [
    "# Tạo danh sách để chứa tất cả cả cell (hexagon)\n",
    "hàm này để mục đích tạo tự động khỏi phải gõ code bằng tay chỉ tạo ma trận vuông"
   ]
  },
  {
   "cell_type": "code",
   "execution_count": 79,
   "metadata": {},
   "outputs": [
    {
     "name": "stdout",
     "output_type": "stream",
     "text": [
      "48 [[0, 0], [0, 1], [0, 2], [0, 3], [0, 4], [0, 5], [1, 0], [1, 1], [1, 2], [1, 3], [1, 4], [1, 5], [2, 0], [2, 1], [2, 2], [2, 3], [2, 4], [2, 5], [3, 0], [3, 1], [3, 2], [3, 3], [3, 4], [3, 5], [4, 0], [4, 1], [4, 2], [4, 3], [4, 4], [4, 5], [5, 0], [5, 1], [5, 2], [5, 3], [5, 4], [5, 5], [6, 0], [6, 1], [6, 2], [6, 3], [6, 4], [6, 5], [7, 0], [7, 1], [7, 2], [7, 3], [7, 4], [7, 5]]\n"
     ]
    }
   ],
   "source": [
    "from random import randint\n",
    "import numpy as np\n",
    "\n",
    "\n",
    "def general(col,row):\n",
    "    result=[]\n",
    "    for i in range(col):\n",
    "        for j in range(row):\n",
    "            result.append([i,j])\n",
    "    return result\n",
    "\n",
    "_list =general(8,6)\n",
    "print(len(_list),_list)"
   ]
  },
  {
   "cell_type": "markdown",
   "metadata": {},
   "source": [
    "![các cell sau khi tạo ra](1.png)"
   ]
  },
  {
   "cell_type": "markdown",
   "metadata": {},
   "source": [
    "# Hàm  lấy ra các cell (hexagon) bên cạnh một cell qr \n",
    "\n",
    "chỉ trả về các giá trị hợp lệ\n",
    "![]()"
   ]
  },
  {
   "cell_type": "code",
   "execution_count": 75,
   "metadata": {},
   "outputs": [
    {
     "data": {
      "text/plain": [
       "[[2, 2], [2, 4], [2, 3], [3, 2]]"
      ]
     },
     "execution_count": 75,
     "metadata": {},
     "output_type": "execute_result"
    }
   ],
   "source": [
    "def side(qr,num=1):\n",
    "    _sides=[[qr[0],qr[1]+1],[qr[0]+1,qr[1]],[qr[0],qr[1]-1],[qr[0]-1,qr[1]-1],[qr[0]-1,qr[0]],[qr[0]-1,qr[1]+1]]\n",
    "    _sides=[item for item in _sides if item[0]>=0 and item[1]>=0]\n",
    "    l=len(_sides)\n",
    "    if num >=l:\n",
    "        num=l\n",
    "        return _sides\n",
    "    result=[]\n",
    "    _last_index=-1\n",
    "    while len(result)<num:\n",
    "        index=randint(0, l-1)\n",
    "        while _last_index ==index:\n",
    "            index=randint(0, l-1)\n",
    "        _last_index=index\n",
    "        _qr=_sides[index]\n",
    "        if _qr not in result:\n",
    "            result.append(_qr)\n",
    "    return result\n",
    "\n",
    "side([3,3],4)"
   ]
  },
  {
   "cell_type": "markdown",
   "metadata": {},
   "source": [
    "# Hàm này dùng để lấy tạo một block với anchor là qr"
   ]
  },
  {
   "cell_type": "code",
   "execution_count": 78,
   "metadata": {},
   "outputs": [
    {
     "data": {
      "text/plain": [
       "([[0, 0], [0, 1], [1, 0], [0, 2], [1, 1]],\n",
       " [[0, 3],\n",
       "  [0, 4],\n",
       "  [0, 5],\n",
       "  [1, 2],\n",
       "  [1, 3],\n",
       "  [1, 4],\n",
       "  [1, 5],\n",
       "  [2, 0],\n",
       "  [2, 1],\n",
       "  [2, 2],\n",
       "  [2, 3],\n",
       "  [2, 4],\n",
       "  [2, 5],\n",
       "  [3, 0],\n",
       "  [3, 1],\n",
       "  [3, 2],\n",
       "  [3, 3],\n",
       "  [3, 4],\n",
       "  [3, 5],\n",
       "  [4, 0],\n",
       "  [4, 1],\n",
       "  [4, 2],\n",
       "  [4, 3],\n",
       "  [4, 4],\n",
       "  [4, 5],\n",
       "  [5, 0],\n",
       "  [5, 1],\n",
       "  [5, 2],\n",
       "  [5, 3],\n",
       "  [5, 4],\n",
       "  [5, 5],\n",
       "  [6, 0],\n",
       "  [6, 1],\n",
       "  [6, 2],\n",
       "  [6, 3],\n",
       "  [6, 4],\n",
       "  [6, 5],\n",
       "  [7, 0],\n",
       "  [7, 1],\n",
       "  [7, 2],\n",
       "  [7, 3],\n",
       "  [7, 4],\n",
       "  [7, 5]])"
      ]
     },
     "execution_count": 78,
     "metadata": {},
     "output_type": "execute_result"
    }
   ],
   "source": [
    "def get(qr,num,lst):\n",
    "    result=[qr]\n",
    "    while len(result)<num and len(lst)>0:\n",
    "        tmpresult = side(qr,num)\n",
    "        tmpresult = [item for item in tmpresult if item in lst]\n",
    "        if len(tmpresult)==0:\n",
    "            l=len(result)\n",
    "            if l<2:\n",
    "                lst = [item for item in lst if item not in result]\n",
    "                break\n",
    "            qr=result[randint(1, l-1)]\n",
    "            continue\n",
    "        result=result+tmpresult\n",
    "        lst = [item for item in lst if item not in result]\n",
    "        \n",
    "        l=len(result)\n",
    "        if l<num:\n",
    "            qr=result[randint(1, l-1)]\n",
    "    return result,lst\n",
    "\n",
    "get([0, 0],5,_list)\n",
    "    "
   ]
  },
  {
   "cell_type": "code",
   "execution_count": 76,
   "metadata": {},
   "outputs": [
    {
     "name": "stdout",
     "output_type": "stream",
     "text": [
      "16 [[0, 0], [0, 1], [1, 0], [0, 2], [1, 1], [2, 0], [2, 1], [3, 0], [1, 2], [1, 3], [2, 2], [0, 3], [3, 1], [2, 3], [3, 2], [0, 4]] 0\n",
      "8 [[0, 5], [1, 5], [2, 5], [1, 4], [3, 5], [2, 4], [3, 4], [4, 5]] 1\n",
      "24 [[3, 3], [4, 3], [4, 4], [5, 3], [4, 2], [5, 2], [4, 1], [5, 4], [6, 3], [5, 5], [6, 4], [7, 3], [6, 2], [5, 1], [6, 5], [7, 4], [7, 2], [4, 0], [7, 1], [6, 1], [7, 5], [5, 0], [7, 0], [6, 0]] 2\n"
     ]
    },
    {
     "data": {
      "text/plain": [
       "[[[0, 0],\n",
       "  [0, 1],\n",
       "  [1, 0],\n",
       "  [0, 2],\n",
       "  [1, 1],\n",
       "  [2, 0],\n",
       "  [2, 1],\n",
       "  [3, 0],\n",
       "  [1, 2],\n",
       "  [1, 3],\n",
       "  [2, 2],\n",
       "  [0, 3],\n",
       "  [3, 1],\n",
       "  [2, 3],\n",
       "  [3, 2],\n",
       "  [0, 4]],\n",
       " [[0, 5], [1, 5], [2, 5], [1, 4], [3, 5], [2, 4], [3, 4], [4, 5]],\n",
       " [[3, 3],\n",
       "  [4, 3],\n",
       "  [4, 4],\n",
       "  [5, 3],\n",
       "  [4, 2],\n",
       "  [5, 2],\n",
       "  [4, 1],\n",
       "  [5, 4],\n",
       "  [6, 3],\n",
       "  [5, 5],\n",
       "  [6, 4],\n",
       "  [7, 3],\n",
       "  [6, 2],\n",
       "  [5, 1],\n",
       "  [6, 5],\n",
       "  [7, 4],\n",
       "  [7, 2],\n",
       "  [4, 0],\n",
       "  [7, 1],\n",
       "  [6, 1],\n",
       "  [7, 5],\n",
       "  [5, 0],\n",
       "  [7, 0],\n",
       "  [6, 0]]]"
      ]
     },
     "execution_count": 76,
     "metadata": {},
     "output_type": "execute_result"
    }
   ],
   "source": [
    "def pop_item(_list,num=3):\n",
    "    i=0\n",
    "    results=[]\n",
    "    l= len(_list)\n",
    "    while i<num or len(_list)>0:\n",
    "        if i>=num-1:\n",
    "            _num=len(_list)\n",
    "        else:\n",
    "            _num= randint(2,l//num+1)\n",
    "        _catch,_list= get(_list[0],_num,_list)\n",
    "        if len(_catch)>0:\n",
    "            results.append(_catch)\n",
    "            print(len(_catch),_catch,i)\n",
    "            i+=1\n",
    "        pass\n",
    "    return results\n",
    "pop_item(_list)"
   ]
  },
  {
   "cell_type": "code",
   "execution_count": 77,
   "metadata": {},
   "outputs": [
    {
     "name": "stdout",
     "output_type": "stream",
     "text": [
      "9 [[0, 0], [0, 1], [1, 0], [0, 2], [1, 1], [2, 0], [2, 1], [3, 0], [1, 2]] 0\n",
      "8 [[0, 3], [0, 4], [1, 3], [1, 4], [2, 3], [2, 4], [3, 3], [2, 2]] 1\n",
      "6 [[0, 5], [1, 5], [2, 5], [3, 5], [4, 5], [3, 4]] 2\n",
      "10 [[3, 1], [3, 2], [4, 1], [4, 2], [5, 1], [4, 0], [4, 3], [5, 2], [6, 1], [5, 0]] 3\n",
      "15 [[4, 4], [5, 4], [5, 5], [6, 4], [5, 3], [6, 3], [7, 3], [6, 2], [7, 4], [7, 2], [7, 1], [6, 5], [7, 0], [6, 0], [7, 5]] 4\n"
     ]
    },
    {
     "data": {
      "text/plain": [
       "[[[0, 0], [0, 1], [1, 0], [0, 2], [1, 1], [2, 0], [2, 1], [3, 0], [1, 2]],\n",
       " [[0, 3], [0, 4], [1, 3], [1, 4], [2, 3], [2, 4], [3, 3], [2, 2]],\n",
       " [[0, 5], [1, 5], [2, 5], [3, 5], [4, 5], [3, 4]],\n",
       " [[3, 1],\n",
       "  [3, 2],\n",
       "  [4, 1],\n",
       "  [4, 2],\n",
       "  [5, 1],\n",
       "  [4, 0],\n",
       "  [4, 3],\n",
       "  [5, 2],\n",
       "  [6, 1],\n",
       "  [5, 0]],\n",
       " [[4, 4],\n",
       "  [5, 4],\n",
       "  [5, 5],\n",
       "  [6, 4],\n",
       "  [5, 3],\n",
       "  [6, 3],\n",
       "  [7, 3],\n",
       "  [6, 2],\n",
       "  [7, 4],\n",
       "  [7, 2],\n",
       "  [7, 1],\n",
       "  [6, 5],\n",
       "  [7, 0],\n",
       "  [6, 0],\n",
       "  [7, 5]]]"
      ]
     },
     "execution_count": 77,
     "metadata": {},
     "output_type": "execute_result"
    }
   ],
   "source": [
    "pop_item(_list,5)"
   ]
  },
  {
   "cell_type": "code",
   "execution_count": null,
   "metadata": {},
   "outputs": [],
   "source": []
  },
  {
   "cell_type": "code",
   "execution_count": null,
   "metadata": {},
   "outputs": [],
   "source": []
  }
 ],
 "metadata": {
  "kernelspec": {
   "display_name": "Python 3",
   "language": "python",
   "name": "python3"
  },
  "language_info": {
   "codemirror_mode": {
    "name": "ipython",
    "version": 3
   },
   "file_extension": ".py",
   "mimetype": "text/x-python",
   "name": "python",
   "nbconvert_exporter": "python",
   "pygments_lexer": "ipython3",
   "version": "3.6.7"
  }
 },
 "nbformat": 4,
 "nbformat_minor": 2
}
